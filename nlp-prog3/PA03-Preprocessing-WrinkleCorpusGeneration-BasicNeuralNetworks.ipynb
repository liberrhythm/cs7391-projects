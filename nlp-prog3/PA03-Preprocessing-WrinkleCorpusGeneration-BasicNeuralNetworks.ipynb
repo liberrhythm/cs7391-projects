{
 "cells": [
  {
   "cell_type": "markdown",
   "metadata": {},
   "source": [
    "## Project 3: Open-Ended ML Approach\n",
    "Sabrina Peng, CS7391 - Spring 2020"
   ]
  },
  {
   "cell_type": "code",
   "execution_count": 1,
   "metadata": {},
   "outputs": [
    {
     "name": "stderr",
     "output_type": "stream",
     "text": [
      "unable to import 'smart_open.gcs', disabling that module\n"
     ]
    }
   ],
   "source": [
    "import pandas as pd\n",
    "import numpy as np\n",
    "from nltk import sent_tokenize, word_tokenize, pos_tag\n",
    "from nltk.corpus import stopwords, wordnet as wn\n",
    "from nltk.stem import PorterStemmer, WordNetLemmatizer\n",
    "import gensim\n",
    "import matplotlib.pyplot as plt\n",
    "import string\n",
    "import math, statistics, random\n",
    "\n",
    "%matplotlib inline\n",
    "\n",
    "import sys\n",
    "import os\n",
    "from tqdm import tqdm\n",
    "\n",
    "swlist = set(stopwords.words('english'))"
   ]
  },
  {
   "cell_type": "code",
   "execution_count": 2,
   "metadata": {},
   "outputs": [],
   "source": [
    "# WordNet POS tags are: NOUN = 'n', ADJ = 's', VERB = 'v', ADV = 'r', ADJ_SAT = 'a'\n",
    "# Descriptions (c) https://web.stanford.edu/~jurafsky/slp3/10.pdf\n",
    "tag_map = {\n",
    "    'CC':None, # coordin. conjunction (and, but, or)  \n",
    "    'CD':wn.NOUN, # cardinal number (one, two)             \n",
    "    'DT':None, # determiner (a, the)                    \n",
    "    'EX':wn.ADV, # existential ‘there’ (there)           \n",
    "    'FW':None, # foreign word (mea culpa)             \n",
    "    'IN':wn.ADV, # preposition/sub-conj (of, in, by)   \n",
    "    'JJ':wn.ADJ, # adjective (yellow)                  \n",
    "    'JJR':wn.ADJ, # adj., comparative (bigger)          \n",
    "    'JJS':wn.ADJ, # adj., superlative (wildest)           \n",
    "    'LS':None, # list item marker (1, 2, One)          \n",
    "    'MD':None, # modal (can, should)                    \n",
    "    'NN':wn.NOUN, # noun, sing. or mass (llama)          \n",
    "    'NNS':wn.NOUN, # noun, plural (llamas)                  \n",
    "    'NNP':wn.NOUN, # proper noun, sing. (IBM)              \n",
    "    'NNPS':wn.NOUN, # proper noun, plural (Carolinas)\n",
    "    'PDT':wn.ADJ, # predeterminer (all, both)            \n",
    "    'POS':None, # possessive ending (’s )               \n",
    "    'PRP':None, # personal pronoun (I, you, he)     \n",
    "    'PRP$':None, # possessive pronoun (your, one’s)    \n",
    "    'RB':wn.ADV, # adverb (quickly, never)            \n",
    "    'RBR':wn.ADV, # adverb, comparative (faster)        \n",
    "    'RBS':wn.ADV, # adverb, superlative (fastest)     \n",
    "    'RP':wn.ADJ, # particle (up, off)\n",
    "    'SYM':None, # symbol (+,%, &)\n",
    "    'TO':None, # “to” (to)\n",
    "    'UH':None, # interjection (ah, oops)\n",
    "    'VB':wn.VERB, # verb base form (eat)\n",
    "    'VBD':wn.VERB, # verb past tense (ate)\n",
    "    'VBG':wn.VERB, # verb gerund (eating)\n",
    "    'VBN':wn.VERB, # verb past participle (eaten)\n",
    "    'VBP':wn.VERB, # verb non-3sg pres (eat)\n",
    "    'VBZ':wn.VERB, # verb 3sg pres (eats)\n",
    "    'WDT':None, # wh-determiner (which, that)\n",
    "    'WP':None, # wh-pronoun (what, who)\n",
    "    'WP$':None, # possessive (wh- whose)\n",
    "    'WRB':None, # wh-adverb (how, where)\n",
    "    '$':None, #  dollar sign ($)\n",
    "    '#':None, # pound sign (#)\n",
    "    '“':None, # left quote (‘ or “)\n",
    "    '”':None, # right quote (’ or ”)\n",
    "    '(':None, # left parenthesis ([, (, {, <)\n",
    "    ')':None, # right parenthesis (], ), }, >)\n",
    "    ',':None, # comma (,)\n",
    "    '.':None, # sentence-final punc (. ! ?)\n",
    "    ':':None # mid-sentence punc (: ; ... – -)\n",
    "}"
   ]
  },
  {
   "cell_type": "code",
   "execution_count": 3,
   "metadata": {},
   "outputs": [
    {
     "data": {
      "text/html": [
       "<div>\n",
       "<style scoped>\n",
       "    .dataframe tbody tr th:only-of-type {\n",
       "        vertical-align: middle;\n",
       "    }\n",
       "\n",
       "    .dataframe tbody tr th {\n",
       "        vertical-align: top;\n",
       "    }\n",
       "\n",
       "    .dataframe thead th {\n",
       "        text-align: right;\n",
       "    }\n",
       "</style>\n",
       "<table border=\"1\" class=\"dataframe\">\n",
       "  <thead>\n",
       "    <tr style=\"text-align: right;\">\n",
       "      <th></th>\n",
       "      <th>doc_name</th>\n",
       "      <th>tag_1</th>\n",
       "      <th>tag_2</th>\n",
       "      <th>tag_3</th>\n",
       "      <th>tag_4</th>\n",
       "    </tr>\n",
       "  </thead>\n",
       "  <tbody>\n",
       "    <tr>\n",
       "      <th>0</th>\n",
       "      <td>Coronavirus_1</td>\n",
       "      <td>Coronavirus</td>\n",
       "      <td>ViralGenome</td>\n",
       "      <td>NaN</td>\n",
       "      <td>NaN</td>\n",
       "    </tr>\n",
       "    <tr>\n",
       "      <th>1</th>\n",
       "      <td>Coronavirus_2</td>\n",
       "      <td>Coronavirus</td>\n",
       "      <td>NaN</td>\n",
       "      <td>NaN</td>\n",
       "      <td>NaN</td>\n",
       "    </tr>\n",
       "    <tr>\n",
       "      <th>2</th>\n",
       "      <td>Coronavirus_3</td>\n",
       "      <td>Coronavirus</td>\n",
       "      <td>NaN</td>\n",
       "      <td>NaN</td>\n",
       "      <td>NaN</td>\n",
       "    </tr>\n",
       "    <tr>\n",
       "      <th>3</th>\n",
       "      <td>Coronavirus_4</td>\n",
       "      <td>Coronavirus</td>\n",
       "      <td>NaN</td>\n",
       "      <td>NaN</td>\n",
       "      <td>NaN</td>\n",
       "    </tr>\n",
       "    <tr>\n",
       "      <th>4</th>\n",
       "      <td>Coronavirus_5</td>\n",
       "      <td>Coronavirus</td>\n",
       "      <td>NaN</td>\n",
       "      <td>NaN</td>\n",
       "      <td>NaN</td>\n",
       "    </tr>\n",
       "  </tbody>\n",
       "</table>\n",
       "</div>"
      ],
      "text/plain": [
       "         doc_name          tag_1         tag_2 tag_3  tag_4\n",
       "0  Coronavirus_1    Coronavirus    ViralGenome   NaN    NaN\n",
       "1  Coronavirus_2     Coronavirus           NaN   NaN    NaN\n",
       "2  Coronavirus_3     Coronavirus           NaN   NaN    NaN\n",
       "3  Coronavirus_4     Coronavirus           NaN   NaN    NaN\n",
       "4  Coronavirus_5     Coronavirus           NaN   NaN    NaN"
      ]
     },
     "execution_count": 3,
     "metadata": {},
     "output_type": "execute_result"
    }
   ],
   "source": [
    "df = pd.read_csv(\"metadata.csv\")\n",
    "metadata = df.copy()\n",
    "metadata.head()"
   ]
  },
  {
   "cell_type": "code",
   "execution_count": 4,
   "metadata": {},
   "outputs": [],
   "source": [
    "doc_names = list(metadata[\"doc_name\"])\n",
    "doc_names = [doc_name.strip() for doc_name in doc_names]\n",
    "\n",
    "tags1 = list(metadata[\"tag_1\"])\n",
    "tags2 = list(metadata[\"tag_2\"])\n",
    "tags3 = list(metadata[\"tag_3\"])"
   ]
  },
  {
   "cell_type": "code",
   "execution_count": 5,
   "metadata": {},
   "outputs": [
    {
     "name": "stderr",
     "output_type": "stream",
     "text": [
      "2000it [00:00, 320236.99it/s]\n"
     ]
    }
   ],
   "source": [
    "doc_tags = []\n",
    "main_doc_tags_unsorted = []\n",
    "for (doc, tag1, tag2, tag3) in tqdm(zip(doc_names, tags1, tags2, tags3)):\n",
    "    main_tag = str(doc).split(\"_\", 1)[0]\n",
    "    main_doc_tags_unsorted.append(main_tag)\n",
    "    \n",
    "    tags = [tag1, tag2, tag3]\n",
    "    tags = [tag.strip() for tag in tags if str(tag) != 'nan']\n",
    "    doc_tags.append(tags)"
   ]
  },
  {
   "cell_type": "code",
   "execution_count": 6,
   "metadata": {},
   "outputs": [],
   "source": [
    "doc_tags_dict = dict(zip(doc_names, doc_tags)) \n",
    "main_doc_tags_dict = dict(zip(doc_names, main_doc_tags_unsorted))"
   ]
  },
  {
   "cell_type": "code",
   "execution_count": 7,
   "metadata": {},
   "outputs": [],
   "source": [
    "unique_doc_tags = np.unique(np.array([tag for sublist in doc_tags for tag in sublist]))"
   ]
  },
  {
   "cell_type": "markdown",
   "metadata": {},
   "source": [
    "## Wrinkle Corpus Generation"
   ]
  },
  {
   "cell_type": "code",
   "execution_count": 8,
   "metadata": {},
   "outputs": [
    {
     "name": "stderr",
     "output_type": "stream",
     "text": [
      "100%|██████████| 2000/2000 [00:02<00:00, 676.29it/s]\n"
     ]
    }
   ],
   "source": [
    "docs = []\n",
    "titles = []\n",
    "abstracts = []\n",
    "main_doc_tags = []\n",
    "\n",
    "corpusDir = \"_corpus/\"\n",
    "files = os.listdir(corpusDir)\n",
    "\n",
    "for file in tqdm(files):\n",
    "    doc = file\n",
    "    docs.append(doc)\n",
    "    main_doc_tags.append(main_doc_tags_dict[file])\n",
    "    \n",
    "    with open(corpusDir + file, \"r\", encoding=\"utf-8\") as f:\n",
    "        title = f.readline().strip()\n",
    "        space = f.readline()\n",
    "        abstract = f.readline().strip()\n",
    "        titles.append(title)\n",
    "        abstracts.append(abstract)"
   ]
  },
  {
   "cell_type": "markdown",
   "metadata": {},
   "source": [
    "### Wrinkle: splicing together documents (10 random sentences per article)\n",
    "Based on same primary tags"
   ]
  },
  {
   "cell_type": "code",
   "execution_count": 9,
   "metadata": {},
   "outputs": [
    {
     "name": "stdout",
     "output_type": "stream",
     "text": [
      "['Ethics_60', 'PublicHealthSurveillance_33', 'Ethics_94', 'Telemedicine_73', 'InfectionControl_81']\n",
      "['Ethics', 'PublicHealthSurveillance', 'Ethics', 'Telemedicine', 'InfectionControl']\n"
     ]
    }
   ],
   "source": [
    "print(files[0:5])\n",
    "print(main_doc_tags[0:5])"
   ]
  },
  {
   "cell_type": "code",
   "execution_count": 10,
   "metadata": {},
   "outputs": [
    {
     "name": "stderr",
     "output_type": "stream",
     "text": [
      "100%|██████████| 2000/2000 [00:02<00:00, 851.15it/s]\n"
     ]
    }
   ],
   "source": [
    "# abstract sentence tokenize\n",
    "abstract_sentences = []\n",
    "for abstract in tqdm(abstracts):\n",
    "    sent_text = sent_tokenize(abstract)\n",
    "    abstract_sentences.append(sent_text)"
   ]
  },
  {
   "cell_type": "code",
   "execution_count": 11,
   "metadata": {},
   "outputs": [],
   "source": [
    "abstract_lengths = [len(abstract) for abstract in abstract_sentences]\n",
    "avg_sentence_len = math.ceil(statistics.mean(abstract_lengths))"
   ]
  },
  {
   "cell_type": "code",
   "execution_count": 12,
   "metadata": {},
   "outputs": [],
   "source": [
    "all_sentences_by_tag = {tag: [] for tag in unique_doc_tags} \n",
    "for doc, tag, sentences in zip(docs, main_doc_tags, abstract_sentences):\n",
    "    all_sentences_by_tag[tag].extend(sentences)"
   ]
  },
  {
   "cell_type": "code",
   "execution_count": 13,
   "metadata": {},
   "outputs": [],
   "source": [
    "tag_sentences = {}\n",
    "for tag, sentences in all_sentences_by_tag.items():\n",
    "    num_sentences = len(sentences)\n",
    "    random.shuffle(sentences)\n",
    "    chunks = [sentences[x: x + avg_sentence_len] for x in range(0, num_sentences, avg_sentence_len)]\n",
    "    tag_sentences[tag] = chunks"
   ]
  },
  {
   "cell_type": "code",
   "execution_count": 15,
   "metadata": {},
   "outputs": [],
   "source": [
    "# create new files\n",
    "counter = 0\n",
    "for tag, contents in tag_sentences.items():\n",
    "    for sentences in contents:\n",
    "        doc_name = tag + \"_\" + str(counter).zfill(3)\n",
    "        file = \"_corpus_augmented_full_splice/\" + doc_name\n",
    "        new_text = ' '.join(sentences)\n",
    "        \n",
    "        f = open(file, \"w\")\n",
    "        f.write(new_text)\n",
    "        f.close()\n",
    "        \n",
    "        counter += 1"
   ]
  },
  {
   "cell_type": "markdown",
   "metadata": {},
   "source": [
    "### Wrinkle: splicing together documents in pairs (50/50 article split)\n",
    "Based on same primary tags"
   ]
  },
  {
   "cell_type": "code",
   "execution_count": 16,
   "metadata": {},
   "outputs": [
    {
     "name": "stdout",
     "output_type": "stream",
     "text": [
      "['Ethics_60', 'PublicHealthSurveillance_33', 'Ethics_94', 'Telemedicine_73', 'InfectionControl_81']\n",
      "['Ethics_60', 'PublicHealthSurveillance_33', 'Ethics_94', 'Telemedicine_73', 'InfectionControl_81']\n",
      "['Ethics', 'PublicHealthSurveillance', 'Ethics', 'Telemedicine', 'InfectionControl']\n"
     ]
    }
   ],
   "source": [
    "print(docs[0:5])\n",
    "print(files[0:5])\n",
    "print(main_doc_tags[0:5])"
   ]
  },
  {
   "cell_type": "code",
   "execution_count": 17,
   "metadata": {},
   "outputs": [
    {
     "name": "stderr",
     "output_type": "stream",
     "text": [
      "100%|██████████| 2000/2000 [00:00<00:00, 287468.15it/s]\n"
     ]
    }
   ],
   "source": [
    "tag_docs = {tag: [] for tag in unique_doc_tags} \n",
    "for file in tqdm(files):\n",
    "    tag = str(file).split(\"_\", 1)[0]\n",
    "    tag_docs[tag].append(file)"
   ]
  },
  {
   "cell_type": "code",
   "execution_count": 18,
   "metadata": {},
   "outputs": [],
   "source": [
    "num_docs_combined = 2\n",
    "tag_docs_chunks = {tag: [] for tag in unique_doc_tags} \n",
    "for tag, docs in tag_docs.items():\n",
    "    num_docs = len(docs)\n",
    "    random.shuffle(docs)\n",
    "    chunks = [docs[x: x + num_docs_combined] for x in range(0, num_docs, num_docs_combined)]\n",
    "    tag_docs_chunks[tag].extend(chunks)"
   ]
  },
  {
   "cell_type": "code",
   "execution_count": 19,
   "metadata": {},
   "outputs": [],
   "source": [
    "def tokenize_doc_by_sent(doc):\n",
    "    with open(corpusDir + doc, \"r\", encoding=\"utf-8\") as f:\n",
    "        title = f.readline().strip()\n",
    "        space = f.readline()\n",
    "        abstract = f.readline().strip()\n",
    "        sent_text = sent_tokenize(abstract)\n",
    "        return sent_text"
   ]
  },
  {
   "cell_type": "code",
   "execution_count": 20,
   "metadata": {},
   "outputs": [],
   "source": [
    "def split_list(lst):\n",
    "    half = len(lst) // 2\n",
    "    return lst[:half], lst[half:]"
   ]
  },
  {
   "cell_type": "code",
   "execution_count": 21,
   "metadata": {},
   "outputs": [],
   "source": [
    "def split_list_random(lst):\n",
    "    random.shuffle(lst)\n",
    "    half = len(lst) // 2\n",
    "    return lst[:half], lst[half:]"
   ]
  },
  {
   "cell_type": "code",
   "execution_count": 22,
   "metadata": {},
   "outputs": [],
   "source": [
    "new_docs = {}\n",
    "new_docs_random = {}\n",
    "for tag, doc_chunks in tag_docs_chunks.items():\n",
    "    for chunk in doc_chunks:\n",
    "        doc1 = chunk[0]\n",
    "        doc2 = chunk[1]\n",
    "        doc1_name = tag + \"_\" + chunk[0].split(\"_\", 1)[1].zfill(3)\n",
    "        doc2_name = tag + \"_\" + chunk[1].split(\"_\", 1)[1].zfill(3)\n",
    "        \n",
    "        sent1 = tokenize_doc_by_sent(doc1)\n",
    "        sent2 = tokenize_doc_by_sent(doc2)\n",
    "\n",
    "        doc11half, doc12half = split_list(sent1)\n",
    "        doc21half, doc22half = split_list(sent2)\n",
    "        \n",
    "        new_doc_name_1 = doc1_name + \"_\" + doc2_name\n",
    "        new_doc_name_2 = doc2_name + \"_\" + doc1_name\n",
    "        \n",
    "        new_doc_sents_1 = doc11half + doc22half\n",
    "        new_doc_sents_2 = doc21half + doc12half\n",
    "        \n",
    "        new_docs[new_doc_name_1] = new_doc_sents_1\n",
    "        new_docs[new_doc_name_2] = new_doc_sents_2"
   ]
  },
  {
   "cell_type": "code",
   "execution_count": 23,
   "metadata": {},
   "outputs": [],
   "source": [
    "# create new files\n",
    "for doc_name, contents in new_docs.items():\n",
    "    file = \"_corpus_augmented_half_splice_pairs/\" + doc_name\n",
    "    new_text = ' '.join(contents)\n",
    "    f = open(file, \"w\")\n",
    "    f.write(new_text)\n",
    "    f.close()"
   ]
  },
  {
   "cell_type": "markdown",
   "metadata": {},
   "source": [
    "### Wrinkle: splicing together documents randomly (50/50 article split)\n",
    "Based on same primary tags"
   ]
  },
  {
   "cell_type": "code",
   "execution_count": 24,
   "metadata": {},
   "outputs": [],
   "source": [
    "def get_halves(first_halves_docs, first_halves, second_halves_docs, second_halves):\n",
    "    first_halves_zip = list(zip(first_halves_docs, first_halves))\n",
    "    random.shuffle(first_halves_zip)\n",
    "    first_halves_docs_random, first_halves_random = zip(*first_halves_zip)\n",
    "\n",
    "    second_halves_zip = list(zip(second_halves_docs, second_halves))\n",
    "    random.shuffle(second_halves_zip)\n",
    "    second_halves_docs_random, second_halves_random = zip(*second_halves_zip)\n",
    "    \n",
    "    return first_halves_docs_random, first_halves_random, second_halves_docs_random, second_halves_random"
   ]
  },
  {
   "cell_type": "code",
   "execution_count": 27,
   "metadata": {},
   "outputs": [],
   "source": [
    "tag_docs_chunks = {tag: [] for tag in unique_doc_tags} \n",
    "for tag, docs in tag_docs.items():\n",
    "    first_halves_docs = []\n",
    "    first_halves = []\n",
    "    second_halves_docs = []\n",
    "    second_halves = []\n",
    "    \n",
    "    for doc in docs:\n",
    "        doc_name = tag + \"_\" + doc.split(\"_\", 1)[1].zfill(3)\n",
    "        first_halves_docs.append(doc_name)\n",
    "        second_halves_docs.append(doc_name)\n",
    "        \n",
    "        sent = tokenize_doc_by_sent(doc)\n",
    "        dochalf1, dochalf2 = split_list(sent)\n",
    "        first_halves.append(dochalf1)\n",
    "        second_halves.append(dochalf2)\n",
    "    \n",
    "    first_halves_docs_random, first_halves_random, second_halves_docs_random, second_halves_random = get_halves(first_halves_docs, first_halves, second_halves_docs, second_halves)\n",
    "\n",
    "    # create new files\n",
    "    for doc1, half1, doc2, half2 in zip(first_halves_docs_random, first_halves_random, second_halves_docs_random, second_halves_random):\n",
    "        file = \"_corpus_augmented_half_splice/\" + doc1 + \"_\" + doc2\n",
    "        contents = half1 + half2\n",
    "        new_text = ' '.join(contents)\n",
    "\n",
    "        f = open(file, \"w\")\n",
    "        f.write(new_text)\n",
    "        f.close()"
   ]
  },
  {
   "cell_type": "markdown",
   "metadata": {},
   "source": [
    "## Original Preprocessing"
   ]
  },
  {
   "cell_type": "code",
   "execution_count": 28,
   "metadata": {},
   "outputs": [
    {
     "name": "stderr",
     "output_type": "stream",
     "text": [
      "100%|██████████| 2000/2000 [00:01<00:00, 1417.95it/s]\n"
     ]
    }
   ],
   "source": [
    "# read in files and get titles / abstracts\n",
    "\n",
    "docs = []\n",
    "titles = []\n",
    "abstracts = []\n",
    "main_doc_tags = []\n",
    "\n",
    "corpusDir = \"_corpus/\"\n",
    "files = os.listdir(corpusDir)\n",
    "\n",
    "for file in tqdm(files):\n",
    "    doc = file\n",
    "    docs.append(doc)\n",
    "    tag = str(file).split(\"_\", 1)[0]\n",
    "    main_doc_tags.append(tag)\n",
    "    \n",
    "    with open(corpusDir + file, \"r\", encoding=\"utf-8\") as f:     \n",
    "        title = f.readline().strip()\n",
    "        space = f.readline()\n",
    "        abstract = f.readline().strip()\n",
    "        titles.append(title)\n",
    "        abstracts.append(abstract)"
   ]
  },
  {
   "cell_type": "code",
   "execution_count": 29,
   "metadata": {},
   "outputs": [],
   "source": [
    "# remove punctuation and handle nan abstracts\n",
    "\n",
    "all_titles = [str(title).lower().translate(str.maketrans('', '', string.punctuation)) for title in titles]\n",
    "all_abstracts = [str(abstract).lower().translate(str.maketrans('', '', string.punctuation)) \n",
    "                 for abstract in abstracts]\n",
    "\n",
    "all_abstracts = ['' if abstract == 'nan' else abstract for abstract in all_abstracts]\n",
    "\n",
    "assert len(all_titles) == len(all_abstracts)"
   ]
  },
  {
   "cell_type": "code",
   "execution_count": 30,
   "metadata": {},
   "outputs": [
    {
     "name": "stderr",
     "output_type": "stream",
     "text": [
      "100%|██████████| 2000/2000 [00:02<00:00, 853.99it/s] \n"
     ]
    }
   ],
   "source": [
    "# tokenize titles\n",
    "\n",
    "tokenized_titles = []\n",
    "tokenized_title_tags = []\n",
    "for title in tqdm(all_titles):\n",
    "    words = word_tokenize(title)\n",
    "    tuples = pos_tag(words)\n",
    "    tokens = [tup[0] for tup in tuples if tup[0] not in swlist and len(tup[0]) > 2 and tup[0].isalpha()]\n",
    "    tags = [tag_map[tup[1]] for tup in tuples if tup[0] not in swlist and len(tup[0]) > 2 and tup[0].isalpha()]\n",
    "    assert len(tokens) == len(tags)\n",
    "    \n",
    "    tokenized_titles.append(tokens)\n",
    "    tokenized_title_tags.append(tags)"
   ]
  },
  {
   "cell_type": "code",
   "execution_count": 31,
   "metadata": {},
   "outputs": [
    {
     "name": "stderr",
     "output_type": "stream",
     "text": [
      "100%|██████████| 2000/2000 [00:16<00:00, 123.21it/s]\n"
     ]
    }
   ],
   "source": [
    "# tokenize abstracts\n",
    "\n",
    "tokenized_abstracts = []\n",
    "tokenized_abstract_tags = []\n",
    "for abstract in tqdm(all_abstracts):\n",
    "    words = word_tokenize(abstract)\n",
    "    tuples = pos_tag(words)\n",
    "    tokens = [tup[0] for tup in tuples if tup[0] not in swlist and len(tup[0]) > 2 and tup[0].isalpha()]\n",
    "    tags = [tag_map[tup[1]] for tup in tuples if tup[0] not in swlist and len(tup[0]) > 2 and tup[0].isalpha()]\n",
    "        \n",
    "    tokenized_abstracts.append(tokens)\n",
    "    tokenized_abstract_tags.append(tags)"
   ]
  },
  {
   "cell_type": "code",
   "execution_count": 32,
   "metadata": {},
   "outputs": [
    {
     "name": "stderr",
     "output_type": "stream",
     "text": [
      "2000it [00:00, 253646.83it/s]\n"
     ]
    }
   ],
   "source": [
    "# intermediate texts (title + abstract before lemmatization)\n",
    "\n",
    "intermediate_texts = []\n",
    "for (title, abstract) in tqdm(zip(tokenized_titles, tokenized_abstracts)):\n",
    "    intermediate_texts.append(title + abstract)"
   ]
  },
  {
   "cell_type": "code",
   "execution_count": 33,
   "metadata": {},
   "outputs": [],
   "source": [
    "# lemmatization\n",
    "\n",
    "wn = WordNetLemmatizer()"
   ]
  },
  {
   "cell_type": "code",
   "execution_count": 34,
   "metadata": {},
   "outputs": [
    {
     "name": "stderr",
     "output_type": "stream",
     "text": [
      "2000it [00:00, 24563.86it/s]\n"
     ]
    }
   ],
   "source": [
    "# lemmatize titles\n",
    "\n",
    "all_lemm_titles = []\n",
    "for (tokens, tags) in tqdm(zip(tokenized_titles, tokenized_title_tags)):\n",
    "    lemm_tokens = [wn.lemmatize(token, tag) for (token, tag) in zip(tokens, tags) if tag is not None]\n",
    "    all_lemm_titles.append(lemm_tokens)"
   ]
  },
  {
   "cell_type": "code",
   "execution_count": 35,
   "metadata": {},
   "outputs": [
    {
     "name": "stderr",
     "output_type": "stream",
     "text": [
      "2000it [00:01, 1141.17it/s]\n"
     ]
    }
   ],
   "source": [
    "# lemmatize abstracts\n",
    "\n",
    "all_lemm_abstracts = []\n",
    "for (tokens, tags) in tqdm(zip(tokenized_abstracts, tokenized_abstract_tags)):\n",
    "    lemm_tokens = [wn.lemmatize(token, tag) for (token, tag) in zip(tokens, tags) if tag is not None]\n",
    "    all_lemm_abstracts.append(lemm_tokens)"
   ]
  },
  {
   "cell_type": "code",
   "execution_count": 36,
   "metadata": {},
   "outputs": [],
   "source": [
    "# titles and abstracts post-processing\n",
    "\n",
    "final_titles = all_lemm_titles\n",
    "final_abstracts = all_lemm_abstracts"
   ]
  },
  {
   "cell_type": "code",
   "execution_count": 37,
   "metadata": {},
   "outputs": [
    {
     "name": "stderr",
     "output_type": "stream",
     "text": [
      "2000it [00:00, 290102.64it/s]\n"
     ]
    }
   ],
   "source": [
    "# final texts (title + abstract after lemmatization)\n",
    "\n",
    "final_texts = []\n",
    "for (title, abstract) in tqdm(zip(final_titles, final_abstracts)):\n",
    "    final_texts.append(title + abstract)"
   ]
  },
  {
   "cell_type": "code",
   "execution_count": 38,
   "metadata": {},
   "outputs": [
    {
     "data": {
      "image/png": "[encoded data removed]",
      "text/plain": [
       "<Figure size 720x360 with 1 Axes>"
      ]
     },
     "metadata": {
      "needs_background": "light"
     },
     "output_type": "display_data"
    }
   ],
   "source": [
    "# find padding / truncation boundary such that most text content is preserved\n",
    "\n",
    "text_lens = [len(text) for text in final_texts]\n",
    "\n",
    "plt.figure(figsize=(10, 5))\n",
    "plt.hist(text_lens)\n",
    "plt.title(\"Distribution of Document Word Counts\")\n",
    "plt.xlabel(\"Number of Words\")\n",
    "plt.ylabel(\"Number of Documents\")\n",
    "plt.show()"
   ]
  },
  {
   "cell_type": "markdown",
   "metadata": {},
   "source": [
    "## Text Classification: Simple RNN (One-to-One)"
   ]
  },
  {
   "cell_type": "code",
   "execution_count": 39,
   "metadata": {},
   "outputs": [],
   "source": [
    "import tensorflow as tf\n",
    "from tensorflow.python import keras"
   ]
  },
  {
   "cell_type": "code",
   "execution_count": 40,
   "metadata": {
    "scrolled": true
   },
   "outputs": [
    {
     "name": "stdout",
     "output_type": "stream",
     "text": [
      "Loading Word2Vec model (this may take some time)...\n",
      "Word2Vec model loaded.\n",
      "CPU times: user 2min 51s, sys: 2.11 s, total: 2min 53s\n",
      "Wall time: 2min 53s\n"
     ]
    }
   ],
   "source": [
    "%%time\n",
    "import gensim\n",
    "\n",
    "EMBEDDING_DIM = 300\n",
    "\n",
    "print(\"Loading Word2Vec model (this may take some time)...\")\n",
    "word2vec = gensim.models.KeyedVectors.load_word2vec_format('GoogleNews-vectors-negative300.bin.gz', binary=True)  \n",
    "print(\"Word2Vec model loaded.\")"
   ]
  },
  {
   "cell_type": "code",
   "execution_count": 41,
   "metadata": {},
   "outputs": [
    {
     "name": "stderr",
     "output_type": "stream",
     "text": [
      "Using TensorFlow backend.\n"
     ]
    },
    {
     "name": "stdout",
     "output_type": "stream",
     "text": [
      "Found 18798 unique tokens. Distilled to 18798 top words.\n",
      "Shape of data tensor: (2000, 400)\n",
      "Shape of label tensor: (2000, 19)\n",
      "18798\n"
     ]
    }
   ],
   "source": [
    "import keras\n",
    "from keras.preprocessing.text import Tokenizer\n",
    "from keras.preprocessing.sequence import pad_sequences\n",
    "from keras.utils import to_categorical\n",
    "\n",
    "NUM_TOP_WORDS = None\n",
    "MAX_ART_LEN = 400 # maximum and minimum number of words\n",
    "\n",
    "tokenizer = Tokenizer(num_words=NUM_TOP_WORDS)\n",
    "tokenizer.fit_on_texts(final_texts)\n",
    "sequences = tokenizer.texts_to_sequences(final_texts)\n",
    "\n",
    "word_index = tokenizer.word_index\n",
    "NUM_TOP_WORDS = len(word_index) if NUM_TOP_WORDS==None else NUM_TOP_WORDS\n",
    "top_words = min((len(word_index),NUM_TOP_WORDS))\n",
    "print('Found %s unique tokens. Distilled to %d top words.' % (len(word_index),top_words))\n",
    "\n",
    "X = pad_sequences(sequences, maxlen=MAX_ART_LEN)\n",
    "\n",
    "# convert all labels to factors and then categorical (int) data\n",
    "\n",
    "(labelFactors, factorLabels) = pd.factorize(main_doc_tags)\n",
    "y_ohe = keras.utils.to_categorical(labelFactors.astype(np.uint8))\n",
    "\n",
    "print('Shape of data tensor:', X.shape)\n",
    "print('Shape of label tensor:', y_ohe.shape)\n",
    "print(np.max(X))"
   ]
  },
  {
   "cell_type": "code",
   "execution_count": 42,
   "metadata": {},
   "outputs": [
    {
     "data": {
      "text/plain": [
       "array(['Coronavirus', 'Ethics', 'Immunity', 'InfectionControl',\n",
       "       'InfectiousDiseaseTransmission', 'InformationDissemination',\n",
       "       'Livestock', 'PointOfCareTesting', 'PostExposureProphylaxis',\n",
       "       'ProtectiveFactors', 'PublicHealthSurveillance', 'RiskFactors',\n",
       "       'SkilledNursingFacility', 'SocialChange', 'SocialStigma',\n",
       "       'Telemedicine', 'ViralGenome', 'ViralVaccines',\n",
       "       'VulnerablePopulations'], dtype='<U29')"
      ]
     },
     "execution_count": 42,
     "metadata": {},
     "output_type": "execute_result"
    }
   ],
   "source": [
    "np.unique(np.array(main_doc_tags))"
   ]
  },
  {
   "cell_type": "code",
   "execution_count": 43,
   "metadata": {},
   "outputs": [
    {
     "name": "stdout",
     "output_type": "stream",
     "text": [
      "(1600, 400) (1600, 19)\n",
      "[ 87.  77.  84.  82.  79.  83.  74.  83. 161.  83.  81.  79.  80.  76.\n",
      "  71.  81.  82.  82.  75.]\n"
     ]
    }
   ],
   "source": [
    "from sklearn.model_selection import train_test_split\n",
    "# split data into train / test subsets\n",
    "X_train, X_test, y_train_ohe, y_test_ohe = train_test_split(X, y_ohe, test_size=0.2, random_state=42)\n",
    "\n",
    "NUM_CLASSES = 19\n",
    "print(X_train.shape,y_train_ohe.shape)\n",
    "print(np.sum(y_train_ohe,axis=0))"
   ]
  },
  {
   "cell_type": "code",
   "execution_count": 44,
   "metadata": {},
   "outputs": [
    {
     "name": "stdout",
     "output_type": "stream",
     "text": [
      "(18799, 300)\n"
     ]
    }
   ],
   "source": [
    "EMBED_SIZE = 300 # from google news embeddings\n",
    "\n",
    "# now fill in the matrix, using the ordering from the keras word tokenizer from before\n",
    "embedding_matrix = np.zeros((len(word_index) + 1, EMBED_SIZE))\n",
    "for word, i in word_index.items():\n",
    "    if word in word2vec:\n",
    "        embedding_vec = word2vec[word]\n",
    "        embedding_matrix[i] = embedding_vec\n",
    "\n",
    "print(embedding_matrix.shape)"
   ]
  },
  {
   "cell_type": "code",
   "execution_count": 45,
   "metadata": {},
   "outputs": [],
   "source": [
    "from keras.layers import Embedding\n",
    "\n",
    "embedding_layer = Embedding(len(word_index) + 1,\n",
    "                            EMBED_SIZE,\n",
    "                            weights=[embedding_matrix],\n",
    "                            input_length=MAX_ART_LEN,\n",
    "                            trainable=False)"
   ]
  },
  {
   "cell_type": "code",
   "execution_count": 46,
   "metadata": {},
   "outputs": [
    {
     "name": "stdout",
     "output_type": "stream",
     "text": [
      "Model: \"sequential_1\"\n",
      "_________________________________________________________________\n",
      "Layer (type)                 Output Shape              Param #   \n",
      "=================================================================\n",
      "embedding_1 (Embedding)      (None, 400, 300)          5639700   \n",
      "_________________________________________________________________\n",
      "lstm_1 (LSTM)                (None, 100)               160400    \n",
      "_________________________________________________________________\n",
      "dense_1 (Dense)              (None, 19)                1919      \n",
      "=================================================================\n",
      "Total params: 5,802,019\n",
      "Trainable params: 162,319\n",
      "Non-trainable params: 5,639,700\n",
      "_________________________________________________________________\n",
      "None\n"
     ]
    }
   ],
   "source": [
    "from keras.models import Sequential\n",
    "from keras.layers import Dense\n",
    "from keras.layers import LSTM\n",
    "\n",
    "rnn = Sequential()\n",
    "rnn.add(embedding_layer)\n",
    "rnn.add(LSTM(100,dropout=0.2, recurrent_dropout=0.2))\n",
    "rnn.add(Dense(NUM_CLASSES, activation='softmax'))\n",
    "rnn.compile(loss='categorical_crossentropy', \n",
    "              optimizer='rmsprop', \n",
    "              metrics=['accuracy'])\n",
    "print(rnn.summary())"
   ]
  },
  {
   "cell_type": "code",
   "execution_count": 47,
   "metadata": {},
   "outputs": [
    {
     "name": "stdout",
     "output_type": "stream",
     "text": [
      "Train on 1600 samples, validate on 400 samples\n",
      "Epoch 1/3\n",
      "1600/1600 [==============================] - 31s 19ms/step - loss: 2.7148 - accuracy: 0.1550 - val_loss: 2.4309 - val_accuracy: 0.1900\n",
      "Epoch 2/3\n",
      "1600/1600 [==============================] - 30s 19ms/step - loss: 2.4192 - accuracy: 0.2688 - val_loss: 2.1423 - val_accuracy: 0.3275\n",
      "Epoch 3/3\n",
      "1600/1600 [==============================] - 30s 19ms/step - loss: 2.1922 - accuracy: 0.3494 - val_loss: 2.0180 - val_accuracy: 0.3675\n"
     ]
    },
    {
     "data": {
      "text/plain": [
       "<keras.callbacks.callbacks.History at 0x7fb5014b2f60>"
      ]
     },
     "execution_count": 47,
     "metadata": {},
     "output_type": "execute_result"
    }
   ],
   "source": [
    "rnn.fit(X_train, y_train_ohe, validation_data=(X_test, y_test_ohe), epochs=3, batch_size=64)"
   ]
  },
  {
   "cell_type": "code",
   "execution_count": 48,
   "metadata": {},
   "outputs": [
    {
     "name": "stdout",
     "output_type": "stream",
     "text": [
      "Train on 1600 samples, validate on 400 samples\n",
      "Epoch 1/3\n",
      "1600/1600 [==============================] - 30s 19ms/step - loss: 1.9353 - accuracy: 0.4487 - val_loss: 1.6773 - val_accuracy: 0.5125\n",
      "Epoch 2/3\n",
      "1600/1600 [==============================] - 30s 19ms/step - loss: 1.7479 - accuracy: 0.4806 - val_loss: 1.5112 - val_accuracy: 0.5275\n",
      "Epoch 3/3\n",
      "1600/1600 [==============================] - 30s 19ms/step - loss: 1.5985 - accuracy: 0.5375 - val_loss: 1.4049 - val_accuracy: 0.6000\n"
     ]
    },
    {
     "data": {
      "text/plain": [
       "<keras.callbacks.callbacks.History at 0x7fb50148b518>"
      ]
     },
     "execution_count": 48,
     "metadata": {},
     "output_type": "execute_result"
    }
   ],
   "source": [
    "rnn.fit(X_train, y_train_ohe, validation_data=(X_test, y_test_ohe), epochs=3, batch_size=64)"
   ]
  },
  {
   "cell_type": "code",
   "execution_count": 49,
   "metadata": {},
   "outputs": [
    {
     "name": "stdout",
     "output_type": "stream",
     "text": [
      "Train on 1600 samples, validate on 400 samples\n",
      "Epoch 1/3\n",
      "1600/1600 [==============================] - 30s 19ms/step - loss: 1.4716 - accuracy: 0.5856 - val_loss: 1.2849 - val_accuracy: 0.6100\n",
      "Epoch 2/3\n",
      "1600/1600 [==============================] - 30s 19ms/step - loss: 1.3650 - accuracy: 0.6094 - val_loss: 1.2461 - val_accuracy: 0.6075\n",
      "Epoch 3/3\n",
      "1600/1600 [==============================] - 30s 19ms/step - loss: 1.2494 - accuracy: 0.6356 - val_loss: 1.2075 - val_accuracy: 0.6475\n"
     ]
    },
    {
     "data": {
      "text/plain": [
       "<keras.callbacks.callbacks.History at 0x7fb50148b748>"
      ]
     },
     "execution_count": 49,
     "metadata": {},
     "output_type": "execute_result"
    }
   ],
   "source": [
    "rnn.fit(X_train, y_train_ohe, validation_data=(X_test, y_test_ohe), epochs=3, batch_size=64)"
   ]
  },
  {
   "cell_type": "markdown",
   "metadata": {},
   "source": [
    "## Text Classification: Simple CNN (One-to-One)"
   ]
  },
  {
   "cell_type": "code",
   "execution_count": 50,
   "metadata": {},
   "outputs": [
    {
     "name": "stdout",
     "output_type": "stream",
     "text": [
      "Model: \"model_1\"\n",
      "_________________________________________________________________\n",
      "Layer (type)                 Output Shape              Param #   \n",
      "=================================================================\n",
      "input_1 (InputLayer)         (None, 400)               0         \n",
      "_________________________________________________________________\n",
      "embedding_1 (Embedding)      (None, 400, 300)          5639700   \n",
      "_________________________________________________________________\n",
      "conv1d_1 (Conv1D)            (None, 396, 128)          192128    \n",
      "_________________________________________________________________\n",
      "max_pooling1d_1 (MaxPooling1 (None, 79, 128)           0         \n",
      "_________________________________________________________________\n",
      "conv1d_2 (Conv1D)            (None, 75, 128)           82048     \n",
      "_________________________________________________________________\n",
      "max_pooling1d_2 (MaxPooling1 (None, 15, 128)           0         \n",
      "_________________________________________________________________\n",
      "conv1d_3 (Conv1D)            (None, 11, 128)           82048     \n",
      "_________________________________________________________________\n",
      "max_pooling1d_3 (MaxPooling1 (None, 2, 128)            0         \n",
      "_________________________________________________________________\n",
      "flatten_1 (Flatten)          (None, 256)               0         \n",
      "_________________________________________________________________\n",
      "dense_2 (Dense)              (None, 128)               32896     \n",
      "_________________________________________________________________\n",
      "dense_3 (Dense)              (None, 19)                2451      \n",
      "=================================================================\n",
      "Total params: 6,031,271\n",
      "Trainable params: 391,571\n",
      "Non-trainable params: 5,639,700\n",
      "_________________________________________________________________\n",
      "None\n"
     ]
    }
   ],
   "source": [
    "from keras.models import Input, Model\n",
    "from keras.layers import Conv1D, MaxPooling1D, Flatten, Dense\n",
    "from keras.layers import Dense\n",
    "from keras.layers.embeddings import Embedding\n",
    "\n",
    "EMBED_SIZE = 300 \n",
    "sequence_input = Input(shape=(MAX_ART_LEN,), dtype='int32')\n",
    "embedded_sequences = embedding_layer(sequence_input) # from previous embedding\n",
    "x = Conv1D(128, 5, activation='relu',kernel_initializer='he_uniform')(embedded_sequences)\n",
    "x = MaxPooling1D(5)(x)\n",
    "x = Conv1D(128, 5, activation='relu',kernel_initializer='he_uniform')(x)\n",
    "x = MaxPooling1D(5)(x)\n",
    "x = Conv1D(128, 5, activation='relu',kernel_initializer='he_uniform')(x)\n",
    "x = MaxPooling1D(5)(x)  \n",
    "x = Flatten()(x)\n",
    "x = Dense(128, activation='relu',kernel_initializer='he_uniform')(x)\n",
    "preds = Dense(NUM_CLASSES, activation='softmax',kernel_initializer='glorot_uniform')(x)\n",
    "\n",
    "model = Model(sequence_input, preds)\n",
    "model.compile(loss='categorical_crossentropy',\n",
    "              optimizer='rmsprop',\n",
    "              metrics=['acc'])\n",
    "\n",
    "print(model.summary())"
   ]
  },
  {
   "cell_type": "code",
   "execution_count": 51,
   "metadata": {},
   "outputs": [
    {
     "name": "stdout",
     "output_type": "stream",
     "text": [
      "Train on 1600 samples, validate on 400 samples\n",
      "Epoch 1/10\n",
      "1600/1600 [==============================] - 5s 3ms/step - loss: 2.8581 - acc: 0.1356 - val_loss: 2.6022 - val_acc: 0.2225\n",
      "Epoch 2/10\n",
      "1600/1600 [==============================] - 5s 3ms/step - loss: 2.4884 - acc: 0.2338 - val_loss: 2.3080 - val_acc: 0.2675\n",
      "Epoch 3/10\n",
      "1600/1600 [==============================] - 5s 3ms/step - loss: 2.1418 - acc: 0.3519 - val_loss: 2.0145 - val_acc: 0.3625\n",
      "Epoch 4/10\n",
      "1600/1600 [==============================] - 5s 3ms/step - loss: 1.7227 - acc: 0.4994 - val_loss: 1.8522 - val_acc: 0.4100\n",
      "Epoch 5/10\n",
      "1600/1600 [==============================] - 5s 3ms/step - loss: 1.4346 - acc: 0.5681 - val_loss: 1.5335 - val_acc: 0.5350\n",
      "Epoch 6/10\n",
      "1600/1600 [==============================] - 4s 3ms/step - loss: 1.0811 - acc: 0.6913 - val_loss: 1.4967 - val_acc: 0.5750\n",
      "Epoch 7/10\n",
      "1600/1600 [==============================] - 5s 3ms/step - loss: 1.0515 - acc: 0.6969 - val_loss: 1.2168 - val_acc: 0.6525\n",
      "Epoch 8/10\n",
      "1600/1600 [==============================] - 4s 2ms/step - loss: 0.8543 - acc: 0.7575 - val_loss: 1.2624 - val_acc: 0.6300\n",
      "Epoch 9/10\n",
      "1600/1600 [==============================] - 3s 2ms/step - loss: 0.7859 - acc: 0.7900 - val_loss: 1.0526 - val_acc: 0.7150\n",
      "Epoch 10/10\n",
      "1600/1600 [==============================] - 3s 2ms/step - loss: 0.5803 - acc: 0.8512 - val_loss: 2.1829 - val_acc: 0.4450\n"
     ]
    },
    {
     "data": {
      "text/plain": [
       "<keras.callbacks.callbacks.History at 0x7fb4d8504f98>"
      ]
     },
     "execution_count": 51,
     "metadata": {},
     "output_type": "execute_result"
    }
   ],
   "source": [
    "model.fit(X_train, y_train_ohe, validation_data=(X_test, y_test_ohe),\n",
    "          epochs=10, batch_size=128)"
   ]
  },
  {
   "cell_type": "code",
   "execution_count": 52,
   "metadata": {},
   "outputs": [
    {
     "name": "stdout",
     "output_type": "stream",
     "text": [
      "Train on 1600 samples, validate on 400 samples\n",
      "Epoch 1/10\n",
      "1600/1600 [==============================] - 3s 2ms/step - loss: 0.7860 - acc: 0.7837 - val_loss: 0.9964 - val_acc: 0.7225\n",
      "Epoch 2/10\n",
      "1600/1600 [==============================] - 3s 2ms/step - loss: 0.5400 - acc: 0.8581 - val_loss: 1.7471 - val_acc: 0.5550\n",
      "Epoch 3/10\n",
      "1600/1600 [==============================] - 3s 2ms/step - loss: 0.5319 - acc: 0.8544 - val_loss: 1.0182 - val_acc: 0.7375\n",
      "Epoch 4/10\n",
      "1600/1600 [==============================] - 3s 2ms/step - loss: 0.6986 - acc: 0.8131 - val_loss: 0.9856 - val_acc: 0.7175\n",
      "Epoch 5/10\n",
      "1600/1600 [==============================] - 3s 2ms/step - loss: 0.4511 - acc: 0.8825 - val_loss: 1.0093 - val_acc: 0.7375\n",
      "Epoch 6/10\n",
      "1600/1600 [==============================] - 4s 2ms/step - loss: 0.5343 - acc: 0.8600 - val_loss: 2.1965 - val_acc: 0.5150\n",
      "Epoch 7/10\n",
      "1600/1600 [==============================] - 4s 3ms/step - loss: 0.5455 - acc: 0.8481 - val_loss: 0.9726 - val_acc: 0.7425\n",
      "Epoch 8/10\n",
      "1600/1600 [==============================] - 4s 2ms/step - loss: 0.4203 - acc: 0.8850 - val_loss: 0.9807 - val_acc: 0.7375\n",
      "Epoch 9/10\n",
      "1600/1600 [==============================] - 3s 2ms/step - loss: 0.7123 - acc: 0.8238 - val_loss: 1.2962 - val_acc: 0.6675\n",
      "Epoch 10/10\n",
      "1600/1600 [==============================] - 3s 2ms/step - loss: 0.4443 - acc: 0.8788 - val_loss: 1.0500 - val_acc: 0.7225\n"
     ]
    },
    {
     "data": {
      "text/plain": [
       "<keras.callbacks.callbacks.History at 0x7fb650660048>"
      ]
     },
     "execution_count": 52,
     "metadata": {},
     "output_type": "execute_result"
    }
   ],
   "source": [
    "model.fit(X_train, y_train_ohe, validation_data=(X_test, y_test_ohe),\n",
    "          epochs=10, batch_size=128)"
   ]
  },
  {
   "cell_type": "code",
   "execution_count": 53,
   "metadata": {},
   "outputs": [
    {
     "name": "stdout",
     "output_type": "stream",
     "text": [
      "Train on 1600 samples, validate on 400 samples\n",
      "Epoch 1/10\n",
      "1600/1600 [==============================] - 3s 2ms/step - loss: 0.4153 - acc: 0.8863 - val_loss: 0.9966 - val_acc: 0.7475\n",
      "Epoch 2/10\n",
      "1600/1600 [==============================] - 3s 2ms/step - loss: 0.4068 - acc: 0.8869 - val_loss: 1.0794 - val_acc: 0.7375\n",
      "Epoch 3/10\n",
      "1600/1600 [==============================] - 3s 2ms/step - loss: 0.7677 - acc: 0.8275 - val_loss: 0.9859 - val_acc: 0.7450\n",
      "Epoch 4/10\n",
      "1600/1600 [==============================] - 3s 2ms/step - loss: 0.4062 - acc: 0.8863 - val_loss: 0.9953 - val_acc: 0.7400\n",
      "Epoch 5/10\n",
      "1600/1600 [==============================] - 4s 2ms/step - loss: 0.4073 - acc: 0.8863 - val_loss: 1.0035 - val_acc: 0.7475\n",
      "Epoch 6/10\n",
      "1600/1600 [==============================] - 4s 2ms/step - loss: 0.4033 - acc: 0.8875 - val_loss: 1.0296 - val_acc: 0.7500\n",
      "Epoch 7/10\n",
      "1600/1600 [==============================] - 4s 3ms/step - loss: 0.6806 - acc: 0.8338 - val_loss: 0.9569 - val_acc: 0.7375\n",
      "Epoch 8/10\n",
      "1600/1600 [==============================] - 5s 3ms/step - loss: 0.4074 - acc: 0.8863 - val_loss: 0.9523 - val_acc: 0.7600\n",
      "Epoch 9/10\n",
      "1600/1600 [==============================] - 5s 3ms/step - loss: 0.4009 - acc: 0.8875 - val_loss: 0.9829 - val_acc: 0.7575\n",
      "Epoch 10/10\n",
      "1600/1600 [==============================] - 4s 3ms/step - loss: 0.3989 - acc: 0.8875 - val_loss: 1.0079 - val_acc: 0.7525\n"
     ]
    },
    {
     "data": {
      "text/plain": [
       "<keras.callbacks.callbacks.History at 0x7fb4d8449048>"
      ]
     },
     "execution_count": 53,
     "metadata": {},
     "output_type": "execute_result"
    }
   ],
   "source": [
    "model.fit(X_train, y_train_ohe, validation_data=(X_test, y_test_ohe),\n",
    "          epochs=10, batch_size=128)"
   ]
  },
  {
   "cell_type": "markdown",
   "metadata": {},
   "source": [
    "## Text Classification: Larger CNN (One-to-One)"
   ]
  },
  {
   "cell_type": "code",
   "execution_count": 54,
   "metadata": {},
   "outputs": [
    {
     "name": "stdout",
     "output_type": "stream",
     "text": [
      "Model: \"model_1\"\n",
      "_________________________________________________________________\n",
      "Layer (type)                 Output Shape              Param #   \n",
      "=================================================================\n",
      "input_1 (InputLayer)         (None, 400)               0         \n",
      "_________________________________________________________________\n",
      "embedding_1 (Embedding)      (None, 400, 300)          5639700   \n",
      "_________________________________________________________________\n",
      "conv1d_1 (Conv1D)            (None, 396, 128)          192128    \n",
      "_________________________________________________________________\n",
      "max_pooling1d_1 (MaxPooling1 (None, 79, 128)           0         \n",
      "_________________________________________________________________\n",
      "conv1d_2 (Conv1D)            (None, 75, 128)           82048     \n",
      "_________________________________________________________________\n",
      "max_pooling1d_2 (MaxPooling1 (None, 15, 128)           0         \n",
      "_________________________________________________________________\n",
      "conv1d_3 (Conv1D)            (None, 11, 128)           82048     \n",
      "_________________________________________________________________\n",
      "max_pooling1d_3 (MaxPooling1 (None, 2, 128)            0         \n",
      "_________________________________________________________________\n",
      "flatten_1 (Flatten)          (None, 256)               0         \n",
      "_________________________________________________________________\n",
      "dense_2 (Dense)              (None, 128)               32896     \n",
      "_________________________________________________________________\n",
      "dense_3 (Dense)              (None, 19)                2451      \n",
      "=================================================================\n",
      "Total params: 6,031,271\n",
      "Trainable params: 391,571\n",
      "Non-trainable params: 5,639,700\n",
      "_________________________________________________________________\n",
      "None\n"
     ]
    }
   ],
   "source": [
    "EMBED_SIZE = 300 \n",
    "sequence_input = Input(shape=(MAX_ART_LEN,), dtype='int32')\n",
    "embedded_sequences = embedding_layer(sequence_input) # from previous embedding\n",
    "x = Conv1D(128, 5, activation='relu',kernel_initializer='he_uniform')(embedded_sequences)\n",
    "x = MaxPooling1D(3)(x)\n",
    "x = Conv1D(128, 5, activation='relu',kernel_initializer='he_uniform')(x)\n",
    "x = MaxPooling1D(3)(x)\n",
    "x = Conv1D(128, 5, activation='relu',kernel_initializer='he_uniform')(x)\n",
    "x = MaxPooling1D(3)(x)  \n",
    "x = Conv1D(128, 5, activation='relu',kernel_initializer='he_uniform')(x)\n",
    "x = MaxPooling1D(3)(x)  \n",
    "x = Flatten()(x)\n",
    "x = Dense(128, activation='relu',kernel_initializer='he_uniform')(x)\n",
    "preds = Dense(NUM_CLASSES, activation='softmax',kernel_initializer='glorot_uniform')(x)\n",
    "\n",
    "model_med = Model(sequence_input, preds)\n",
    "model_med.compile(loss='categorical_crossentropy',\n",
    "              optimizer='rmsprop',\n",
    "              metrics=['acc'])\n",
    "\n",
    "print(model.summary())"
   ]
  },
  {
   "cell_type": "code",
   "execution_count": 55,
   "metadata": {},
   "outputs": [
    {
     "name": "stdout",
     "output_type": "stream",
     "text": [
      "Train on 1600 samples, validate on 400 samples\n",
      "Epoch 1/10\n",
      "1600/1600 [==============================] - 5s 3ms/step - loss: 2.9004 - acc: 0.0931 - val_loss: 2.8759 - val_acc: 0.1375\n",
      "Epoch 2/10\n",
      "1600/1600 [==============================] - 5s 3ms/step - loss: 2.6526 - acc: 0.1825 - val_loss: 2.6708 - val_acc: 0.1775\n",
      "Epoch 3/10\n",
      "1600/1600 [==============================] - 5s 3ms/step - loss: 2.4227 - acc: 0.2587 - val_loss: 2.2700 - val_acc: 0.2950\n",
      "Epoch 4/10\n",
      "1600/1600 [==============================] - 5s 3ms/step - loss: 2.1307 - acc: 0.3494 - val_loss: 2.1353 - val_acc: 0.3275\n",
      "Epoch 5/10\n",
      "1600/1600 [==============================] - 6s 4ms/step - loss: 1.8412 - acc: 0.4412 - val_loss: 2.5807 - val_acc: 0.2700\n",
      "Epoch 6/10\n",
      "1600/1600 [==============================] - 4s 3ms/step - loss: 1.7098 - acc: 0.4894 - val_loss: 1.8463 - val_acc: 0.4475\n",
      "Epoch 7/10\n",
      "1600/1600 [==============================] - 3s 2ms/step - loss: 1.4909 - acc: 0.5412 - val_loss: 1.6453 - val_acc: 0.5075\n",
      "Epoch 8/10\n",
      "1600/1600 [==============================] - 3s 2ms/step - loss: 1.3362 - acc: 0.6112 - val_loss: 1.5569 - val_acc: 0.5125\n",
      "Epoch 9/10\n",
      "1600/1600 [==============================] - 3s 2ms/step - loss: 1.1992 - acc: 0.6519 - val_loss: 1.5250 - val_acc: 0.5425\n",
      "Epoch 10/10\n",
      "1600/1600 [==============================] - 3s 2ms/step - loss: 1.1075 - acc: 0.6787 - val_loss: 1.6488 - val_acc: 0.5100\n"
     ]
    },
    {
     "data": {
      "text/plain": [
       "<keras.callbacks.callbacks.History at 0x7fb4d82caf28>"
      ]
     },
     "execution_count": 55,
     "metadata": {},
     "output_type": "execute_result"
    }
   ],
   "source": [
    "model_med.fit(X_train, y_train_ohe, validation_data=(X_test, y_test_ohe),\n",
    "          epochs=10, batch_size=128)"
   ]
  },
  {
   "cell_type": "code",
   "execution_count": 56,
   "metadata": {},
   "outputs": [
    {
     "name": "stdout",
     "output_type": "stream",
     "text": [
      "Train on 1600 samples, validate on 400 samples\n",
      "Epoch 1/10\n",
      "1600/1600 [==============================] - 3s 2ms/step - loss: 0.9057 - acc: 0.7494 - val_loss: 1.6064 - val_acc: 0.5275\n",
      "Epoch 2/10\n",
      "1600/1600 [==============================] - 3s 2ms/step - loss: 0.9640 - acc: 0.7169 - val_loss: 1.6688 - val_acc: 0.5300\n",
      "Epoch 3/10\n",
      "1600/1600 [==============================] - 3s 2ms/step - loss: 0.9418 - acc: 0.7550 - val_loss: 1.5989 - val_acc: 0.5375\n",
      "Epoch 4/10\n",
      "1600/1600 [==============================] - 3s 2ms/step - loss: 0.7455 - acc: 0.7925 - val_loss: 1.7990 - val_acc: 0.5350\n",
      "Epoch 5/10\n",
      "1600/1600 [==============================] - 3s 2ms/step - loss: 0.8374 - acc: 0.7544 - val_loss: 2.8697 - val_acc: 0.3825\n",
      "Epoch 6/10\n",
      "1600/1600 [==============================] - 3s 2ms/step - loss: 0.9061 - acc: 0.7513 - val_loss: 1.2711 - val_acc: 0.6575\n",
      "Epoch 7/10\n",
      "1600/1600 [==============================] - 3s 2ms/step - loss: 0.6636 - acc: 0.8150 - val_loss: 1.9400 - val_acc: 0.5400\n",
      "Epoch 8/10\n",
      "1600/1600 [==============================] - 3s 2ms/step - loss: 0.8545 - acc: 0.7625 - val_loss: 1.3107 - val_acc: 0.6450\n",
      "Epoch 9/10\n",
      "1600/1600 [==============================] - 3s 2ms/step - loss: 0.6431 - acc: 0.8175 - val_loss: 1.3255 - val_acc: 0.6550\n",
      "Epoch 10/10\n",
      "1600/1600 [==============================] - 3s 2ms/step - loss: 1.0042 - acc: 0.7400 - val_loss: 1.5980 - val_acc: 0.5625\n"
     ]
    },
    {
     "data": {
      "text/plain": [
       "<keras.callbacks.callbacks.History at 0x7fb502241cc0>"
      ]
     },
     "execution_count": 56,
     "metadata": {},
     "output_type": "execute_result"
    }
   ],
   "source": [
    "model_med.fit(X_train, y_train_ohe, validation_data=(X_test, y_test_ohe),\n",
    "          epochs=10, batch_size=128)"
   ]
  },
  {
   "cell_type": "code",
   "execution_count": 57,
   "metadata": {},
   "outputs": [
    {
     "name": "stdout",
     "output_type": "stream",
     "text": [
      "Train on 1600 samples, validate on 400 samples\n",
      "Epoch 1/10\n",
      "1600/1600 [==============================] - 3s 2ms/step - loss: 0.6642 - acc: 0.8150 - val_loss: 1.3020 - val_acc: 0.6425\n",
      "Epoch 2/10\n",
      "1600/1600 [==============================] - 3s 2ms/step - loss: 0.6232 - acc: 0.8238 - val_loss: 1.3988 - val_acc: 0.6400\n",
      "Epoch 3/10\n",
      "1600/1600 [==============================] - 3s 2ms/step - loss: 0.6131 - acc: 0.8238 - val_loss: 1.4022 - val_acc: 0.6500\n",
      "Epoch 4/10\n",
      "1600/1600 [==============================] - 3s 2ms/step - loss: 0.6022 - acc: 0.8244 - val_loss: 1.6037 - val_acc: 0.6375\n",
      "Epoch 5/10\n",
      "1600/1600 [==============================] - 3s 2ms/step - loss: 1.2139 - acc: 0.7519 - val_loss: 1.3642 - val_acc: 0.6575\n",
      "Epoch 6/10\n",
      "1600/1600 [==============================] - 3s 2ms/step - loss: 0.5997 - acc: 0.8263 - val_loss: 1.4192 - val_acc: 0.6325\n",
      "Epoch 7/10\n",
      "1600/1600 [==============================] - 3s 2ms/step - loss: 0.5969 - acc: 0.8269 - val_loss: 1.4301 - val_acc: 0.6575\n",
      "Epoch 8/10\n",
      "1600/1600 [==============================] - 3s 2ms/step - loss: 0.5949 - acc: 0.8275 - val_loss: 1.5001 - val_acc: 0.6525\n",
      "Epoch 9/10\n",
      "1600/1600 [==============================] - 3s 2ms/step - loss: 1.0382 - acc: 0.7556 - val_loss: 1.3480 - val_acc: 0.6475\n",
      "Epoch 10/10\n",
      "1600/1600 [==============================] - 3s 2ms/step - loss: 0.5961 - acc: 0.8269 - val_loss: 1.3752 - val_acc: 0.6525\n"
     ]
    },
    {
     "data": {
      "text/plain": [
       "<keras.callbacks.callbacks.History at 0x7fb4d8176518>"
      ]
     },
     "execution_count": 57,
     "metadata": {},
     "output_type": "execute_result"
    }
   ],
   "source": [
    "model_med.fit(X_train, y_train_ohe, validation_data=(X_test, y_test_ohe),\n",
    "          epochs=10, batch_size=128)"
   ]
  }
 ],
 "metadata": {
  "kernelspec": {
   "display_name": "Python 3",
   "language": "python",
   "name": "python3"
  },
  "language_info": {
   "codemirror_mode": {
    "name": "ipython",
    "version": 3
   },
   "file_extension": ".py",
   "mimetype": "text/x-python",
   "name": "python",
   "nbconvert_exporter": "python",
   "pygments_lexer": "ipython3",
   "version": "3.6.5"
  }
 },
 "nbformat": 4,
 "nbformat_minor": 2
}
